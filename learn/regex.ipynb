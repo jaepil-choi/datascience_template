{
 "cells": [
  {
   "cell_type": "code",
   "execution_count": 1,
   "metadata": {},
   "outputs": [
    {
     "name": "stdout",
     "output_type": "stream",
     "text": [
      "Today's date is: 2021년07월18일\n"
     ]
    }
   ],
   "source": [
    "from datetime import datetime\n",
    "\n",
    "today = datetime.now()\n",
    "\n",
    "print(\"Today's date is: {:%Y년%m월%d일}\".format(today))"
   ]
  },
  {
   "cell_type": "code",
   "execution_count": 2,
   "metadata": {},
   "outputs": [
    {
     "name": "stdout",
     "output_type": "stream",
     "text": [
      "Python is called python due to a comedy series\n",
      "Python is called 'python' due to a comedy series\n"
     ]
    }
   ],
   "source": [
    "name = \"python\"\n",
    "\n",
    "print(f\"Python is called {name} due to a comedy series\")\n",
    "print(f\"Python is called {name!r} due to a comedy series\")"
   ]
  },
  {
   "cell_type": "code",
   "execution_count": 3,
   "metadata": {},
   "outputs": [
    {
     "name": "stdout",
     "output_type": "stream",
     "text": [
      "result:    9001.15 \n",
      "result: 9.00e+03 \n",
      "result: 10224 \n"
     ]
    }
   ],
   "source": [
    "number = 9001.1549864234864\n",
    "num = 10224\n",
    "\n",
    "print(f'result: {number:10.2f} ') # float\n",
    "print(f'result: {number:.2e} ') # scientific notation\n",
    "print(f'result: {num:2d} ') # digit"
   ]
  },
  {
   "cell_type": "code",
   "execution_count": 4,
   "metadata": {},
   "outputs": [
    {
     "name": "stdout",
     "output_type": "stream",
     "text": [
      "result: 00010224\n"
     ]
    }
   ],
   "source": [
    "print(f'result: {num:08d}')"
   ]
  },
  {
   "cell_type": "code",
   "execution_count": 5,
   "metadata": {},
   "outputs": [
    {
     "name": "stdout",
     "output_type": "stream",
     "text": [
      "result:    10224\n"
     ]
    }
   ],
   "source": [
    "print(f'result: {num:8d}')"
   ]
  },
  {
   "cell_type": "code",
   "execution_count": 6,
   "metadata": {},
   "outputs": [
    {
     "name": "stdout",
     "output_type": "stream",
     "text": [
      "Today: 2021-07-18\n"
     ]
    }
   ],
   "source": [
    "print(f'Today: {today:%Y-%m-%d}')"
   ]
  },
  {
   "cell_type": "code",
   "execution_count": 7,
   "metadata": {},
   "outputs": [],
   "source": [
    "from string import Template # slower than f-string, don't allow format specifiers\n",
    "# user-provided string 같은 것을 쓸 때는 유용할 수 있음.\n",
    "# 그닥 쓸모는 없음. "
   ]
  },
  {
   "cell_type": "code",
   "execution_count": 8,
   "metadata": {},
   "outputs": [
    {
     "data": {
      "text/plain": [
       "'Data science has been called sexiest job'"
      ]
     },
     "execution_count": 8,
     "metadata": {},
     "output_type": "execute_result"
    }
   ],
   "source": [
    "my_string = Template('Data science has been called ${identifier}')\n",
    "my_string.substitute(identifier=\"sexiest job\")"
   ]
  },
  {
   "cell_type": "code",
   "execution_count": 9,
   "metadata": {},
   "outputs": [],
   "source": [
    "import re"
   ]
  },
  {
   "cell_type": "code",
   "execution_count": 10,
   "metadata": {},
   "outputs": [],
   "source": [
    "pattern = re.compile(r'#ufc')"
   ]
  },
  {
   "cell_type": "code",
   "execution_count": 11,
   "metadata": {},
   "outputs": [
    {
     "data": {
      "text/plain": [
       "['#ufc', '#ufc']"
      ]
     },
     "execution_count": 11,
     "metadata": {},
     "output_type": "execute_result"
    }
   ],
   "source": [
    "s = \"Love #ufc! Let's try another #ufc176\"\n",
    "re.findall(pattern, s)"
   ]
  },
  {
   "cell_type": "code",
   "execution_count": 12,
   "metadata": {},
   "outputs": [
    {
     "data": {
      "text/plain": [
       "['\\nA: 그래서 어쨌다고?\\nB: 응 안녕\\n\\n', '\\n\\nC: 그래\\nD: 잘가~\\n']"
      ]
     },
     "execution_count": 12,
     "metadata": {},
     "output_type": "execute_result"
    }
   ],
   "source": [
    "pattern = \"---\\d+월 \\d+일 대화내역---\"\n",
    "s = \"\"\"\n",
    "A: 그래서 어쨌다고?\n",
    "B: 응 안녕\n",
    "\n",
    "---1월 3일 대화내역---\n",
    "\n",
    "C: 그래\n",
    "D: 잘가~\n",
    "\"\"\"\n",
    "re.split(pattern, s)"
   ]
  },
  {
   "cell_type": "code",
   "execution_count": 13,
   "metadata": {},
   "outputs": [
    {
     "data": {
      "text/plain": [
       "'***씨는 앞으로 나와주시기 바랍니다.'"
      ]
     },
     "execution_count": 13,
     "metadata": {},
     "output_type": "execute_result"
    }
   ],
   "source": [
    "s = \"김형식씨는 앞으로 나와주시기 바랍니다.\"\n",
    "pattern = re.compile(r'[ㄱ-힣]+씨')\n",
    "\n",
    "re.sub(pattern, \"***씨\", s)"
   ]
  },
  {
   "cell_type": "code",
   "execution_count": 14,
   "metadata": {},
   "outputs": [
    {
     "data": {
      "text/plain": [
       "['user_1', 'user_A', 'user_a', 'user__']"
      ]
     },
     "execution_count": 14,
     "metadata": {},
     "output_type": "execute_result"
    }
   ],
   "source": [
    "s = 'user_1, user_A, user_a, user__'\n",
    "pattern = re.compile(r'user_\\w') # alphaneumeric + '_'(underscore)\n",
    "\n",
    "re.findall(pattern, s)"
   ]
  },
  {
   "cell_type": "code",
   "execution_count": 15,
   "metadata": {},
   "outputs": [
    {
     "data": {
      "text/plain": [
       "[]"
      ]
     },
     "execution_count": 15,
     "metadata": {},
     "output_type": "execute_result"
    }
   ],
   "source": [
    "pattern = re.compile(r'user_\\W')\n",
    "re.findall(pattern, s) # non-word"
   ]
  },
  {
   "cell_type": "markdown",
   "metadata": {},
   "source": [
    "Quantifiers"
   ]
  },
  {
   "cell_type": "code",
   "execution_count": 16,
   "metadata": {},
   "outputs": [
    {
     "name": "stdout",
     "output_type": "stream",
     "text": [
      "['color']\n",
      "['colour']\n"
     ]
    }
   ],
   "source": [
    "s1 = \"The color of this image\"\n",
    "s2 = \"the colour of the image\"\n",
    "pattern = re.compile(r'colou?r') # once or zero\n",
    "\n",
    "print(re.findall(pattern, s1))\n",
    "print(re.findall(pattern, s2))"
   ]
  },
  {
   "cell_type": "code",
   "execution_count": 17,
   "metadata": {},
   "outputs": [
    {
     "data": {
      "text/plain": [
       "['010-4679-58785', '010-461-58345456']"
      ]
     },
     "execution_count": 17,
     "metadata": {},
     "output_type": "execute_result"
    }
   ],
   "source": [
    "s = \"010-4679-58785, 010-467911-58345, 010-467-58, 010-461-58345456\"\n",
    "\n",
    "pattern = re.compile(r'\\d{3}-\\d{1,4}-\\d{4,}')\n",
    "\n",
    "re.findall(pattern, s)"
   ]
  },
  {
   "cell_type": "markdown",
   "metadata": {},
   "source": [
    "metacharacters"
   ]
  },
  {
   "cell_type": "code",
   "execution_count": 18,
   "metadata": {},
   "outputs": [],
   "source": [
    "s = \"4506 people attend the snow\"\n",
    "pattern = re.compile(r'\\d{4}')"
   ]
  },
  {
   "cell_type": "markdown",
   "metadata": {},
   "source": [
    "둘다 됨. "
   ]
  },
  {
   "cell_type": "code",
   "execution_count": 19,
   "metadata": {},
   "outputs": [
    {
     "data": {
      "text/plain": [
       "<re.Match object; span=(0, 4), match='4506'>"
      ]
     },
     "execution_count": 19,
     "metadata": {},
     "output_type": "execute_result"
    }
   ],
   "source": [
    "re.search(pattern , s)"
   ]
  },
  {
   "cell_type": "code",
   "execution_count": 20,
   "metadata": {},
   "outputs": [
    {
     "data": {
      "text/plain": [
       "<re.Match object; span=(0, 4), match='4506'>"
      ]
     },
     "execution_count": 20,
     "metadata": {},
     "output_type": "execute_result"
    }
   ],
   "source": [
    "re.match(pattern, s)"
   ]
  },
  {
   "cell_type": "markdown",
   "metadata": {},
   "source": [
    "하지만 match는 맨 앞이 아니면 안됨. "
   ]
  },
  {
   "cell_type": "code",
   "execution_count": 21,
   "metadata": {},
   "outputs": [],
   "source": [
    "s = \"Wow, 4506 people attend the snow\"\n",
    "pattern = re.compile(r'\\d{4}')"
   ]
  },
  {
   "cell_type": "code",
   "execution_count": 22,
   "metadata": {},
   "outputs": [
    {
     "data": {
      "text/plain": [
       "<re.Match object; span=(5, 9), match='4506'>"
      ]
     },
     "execution_count": 22,
     "metadata": {},
     "output_type": "execute_result"
    }
   ],
   "source": [
    "re.search(pattern , s)"
   ]
  },
  {
   "cell_type": "code",
   "execution_count": 23,
   "metadata": {},
   "outputs": [],
   "source": [
    "re.match(pattern, s)"
   ]
  },
  {
   "cell_type": "markdown",
   "metadata": {},
   "source": [
    "greedy vs non-greedy(lazy) matching\n",
    "\n",
    "- greedy\n",
    "    - `*`, `+`, `?`, `{num, num}`\n",
    "    - 최대한 많이 match시킴. return the longest match\n",
    "    - 하지만 너무 많이 match되면 뒤에서부터 하나씩 gives up 한다. (backtrack)\n",
    "        - 아래의 예를 보자. `.*hello`라는 regex는 왼쪽부터 해석되는데, \n",
    "            - 맨 처음엔 `.*` 즉 아무 문자나 가지고 쭉 오른쪽으로 채운다. 그렇게 끝까지 간 다음\n",
    "            - 다음으로 `h`가 나와야 하니까 맨 뒤에서부터 한 걸음씩 뒷걸음질 치며 `h`를 찾는다. \n",
    "            - 그렇게 `h`를 찾고나서 나머지 `ello`도 매칭되는지 체크한다. \n",
    " "
   ]
  },
  {
   "cell_type": "code",
   "execution_count": 24,
   "metadata": {},
   "outputs": [],
   "source": [
    "s1 = 'xhelloxxxxxxxxxx'\n",
    "s2 = 'xhelloxxxxxxxxxxxxhelloxxxxxxxx'\n",
    "pattern = re.compile(r'.*hello')"
   ]
  },
  {
   "cell_type": "code",
   "execution_count": 25,
   "metadata": {},
   "outputs": [
    {
     "data": {
      "text/plain": [
       "<re.Match object; span=(0, 6), match='xhello'>"
      ]
     },
     "execution_count": 25,
     "metadata": {},
     "output_type": "execute_result"
    }
   ],
   "source": [
    "re.match(pattern, s1)"
   ]
  },
  {
   "cell_type": "code",
   "execution_count": 26,
   "metadata": {},
   "outputs": [
    {
     "data": {
      "text/plain": [
       "<re.Match object; span=(0, 23), match='xhelloxxxxxxxxxxxxhello'>"
      ]
     },
     "execution_count": 26,
     "metadata": {},
     "output_type": "execute_result"
    }
   ],
   "source": [
    "re.match(pattern, s2)"
   ]
  },
  {
   "cell_type": "markdown",
   "metadata": {},
   "source": [
    "- non-greedy\n",
    "    - lazy: match as few characters as needed\n",
    "    - return the shortest match\n",
    "    - greedy quantifier 마지막에 `?`를 붙이면 non-greedy된다. \n",
    "    - greedy와는 반대로 너무 적게 match되면 앞에서부터 하나씩 추가한다. \n",
    "        - 아래의 예를 보자. `.*?hello`는 왼쪽부터 해석되는데, \n",
    "            - 맨 처음엔 `.*?` 즉 아무 문자나 있는지 없는지 확인한다. (아예 없는 것부터 시작)\n",
    "            - 아무문자도 없는 것도 `.*?`에 해당되므로 바로 다음에 그럼 `h`가 있는지 확인한다. \n",
    "            - 없으므로 맨 앞에서 한 걸음씩 나아가며 조건을 하나씩 충족시키고 그 다음 `h`가 나오는지 찾는다. \n",
    "            - 그렇게 `h`를 찾고나서 나머지 `ello`도 매칭되는지 체크한다. "
   ]
  },
  {
   "cell_type": "code",
   "execution_count": 27,
   "metadata": {},
   "outputs": [],
   "source": [
    "s = \"152315642341abcd\"\n",
    "\n",
    "pattern1 = re.compile(r'\\d+')\n",
    "pattern2 = re.compile(r'\\d+?')"
   ]
  },
  {
   "cell_type": "code",
   "execution_count": 28,
   "metadata": {},
   "outputs": [
    {
     "data": {
      "text/plain": [
       "<re.Match object; span=(0, 12), match='152315642341'>"
      ]
     },
     "execution_count": 28,
     "metadata": {},
     "output_type": "execute_result"
    }
   ],
   "source": [
    "re.match(pattern1, s)"
   ]
  },
  {
   "cell_type": "code",
   "execution_count": 29,
   "metadata": {},
   "outputs": [
    {
     "data": {
      "text/plain": [
       "<re.Match object; span=(0, 1), match='1'>"
      ]
     },
     "execution_count": 29,
     "metadata": {},
     "output_type": "execute_result"
    }
   ],
   "source": [
    "re.match(pattern2, s) # 맨 처음만 match 됨."
   ]
  },
  {
   "cell_type": "code",
   "execution_count": 30,
   "metadata": {},
   "outputs": [],
   "source": [
    "s = 'xxhelloxxxxxxx'\n",
    "pattern = re.compile(r'.*?hello')"
   ]
  },
  {
   "cell_type": "code",
   "execution_count": 31,
   "metadata": {},
   "outputs": [
    {
     "data": {
      "text/plain": [
       "<re.Match object; span=(0, 7), match='xxhello'>"
      ]
     },
     "execution_count": 31,
     "metadata": {},
     "output_type": "execute_result"
    }
   ],
   "source": [
    "re.match(pattern, s)"
   ]
  },
  {
   "cell_type": "code",
   "execution_count": 32,
   "metadata": {},
   "outputs": [
    {
     "data": {
      "text/plain": [
       "['(United States) Great Again (For Trump)']"
      ]
     },
     "execution_count": 32,
     "metadata": {},
     "output_type": "execute_result"
    }
   ],
   "source": [
    "s = 'Make America (United States) Great Again (For Trump)'\n",
    "p = re.compile(r'\\(.+\\)')\n",
    "\n",
    "re.findall(p, s)"
   ]
  },
  {
   "cell_type": "code",
   "execution_count": 33,
   "metadata": {},
   "outputs": [
    {
     "data": {
      "text/plain": [
       "['(United States)', '(For Trump)']"
      ]
     },
     "execution_count": 33,
     "metadata": {},
     "output_type": "execute_result"
    }
   ],
   "source": [
    "s = 'Make America (United States) Great Again (For Trump)'\n",
    "p = re.compile(r'\\(.+?\\)')\n",
    "\n",
    "re.findall(p, s)"
   ]
  },
  {
   "cell_type": "markdown",
   "metadata": {},
   "source": [
    "capturing groups\n",
    "- match a specific subpattern in a pattern\n",
    "- use it for further processing\n",
    "- 전체가 group 0, 그 하위 subpattern이 group 1, group 2 이런 식이다. \n",
    "    - 튜플로 반환됨.\n",
    "- capture a repeated group `(\\d+)` vs repeat a capturing group `(\\d)+`"
   ]
  },
  {
   "cell_type": "code",
   "execution_count": 34,
   "metadata": {},
   "outputs": [
    {
     "data": {
      "text/plain": [
       "[('g8fish', 'gogoteam.'), ('philips', 'good.')]"
      ]
     },
     "execution_count": 34,
     "metadata": {},
     "output_type": "execute_result"
    }
   ],
   "source": [
    "s = 'My id: g8fish pw: gogoteam. your id: philips pw: good.'\n",
    "p = re.compile(r'id:\\s(.*?)\\spw:\\s(.*?\\.)')\n",
    "\n",
    "re.findall(p, s)"
   ]
  },
  {
   "cell_type": "code",
   "execution_count": 55,
   "metadata": {},
   "outputs": [
    {
     "data": {
      "text/plain": [
       "['8', '3']"
      ]
     },
     "execution_count": 55,
     "metadata": {},
     "output_type": "execute_result"
    }
   ],
   "source": [
    "s = \"My lucky numbers are 5778 and 1123.\"\n",
    "p = re.compile(r'(\\d)+')\n",
    "\n",
    "re.findall(p, s)"
   ]
  },
  {
   "cell_type": "code",
   "execution_count": 36,
   "metadata": {},
   "outputs": [
    {
     "data": {
      "text/plain": [
       "['5788', '777']"
      ]
     },
     "execution_count": 36,
     "metadata": {},
     "output_type": "execute_result"
    }
   ],
   "source": [
    "s = \"My lucky numbers are 5788 and 777.\"\n",
    "p = re.compile(r'(\\d+)')\n",
    "\n",
    "re.findall(p, s)"
   ]
  },
  {
   "cell_type": "markdown",
   "metadata": {},
   "source": [
    "alternation and non-capturing groups\n",
    "- use groups to choose between optional patterns\n",
    "\n",
    "non-capturing groups\n",
    "- match but not capture a group\n",
    "    - when group is not backreferenced\n",
    "    - add `?:` like `(?:regex)`\n",
    "    \n",
    "alternation (or, `|`)\n",
    "- 뒤따르는 non-capturing을 제외하고 앞의 값만 얻어낼 때. "
   ]
  },
  {
   "cell_type": "code",
   "execution_count": 37,
   "metadata": {},
   "outputs": [
    {
     "data": {
      "text/plain": [
       "[('3', 'apples'), ('2', 'bananas'), ('4', 'cheese')]"
      ]
     },
     "execution_count": 37,
     "metadata": {},
     "output_type": "execute_result"
    }
   ],
   "source": [
    "s = 'Ingredients: 3 apples, 2 bananas, 4 cheese'\n",
    "p = re.compile(r'(\\d+)\\s(apples|bananas|cheese)')\n",
    "\n",
    "re.findall(p, s)"
   ]
  },
  {
   "cell_type": "code",
   "execution_count": 38,
   "metadata": {},
   "outputs": [
    {
     "data": {
      "text/plain": [
       "['064-982', '469-598']"
      ]
     },
     "execution_count": 38,
     "metadata": {},
     "output_type": "execute_result"
    }
   ],
   "source": [
    "s = 'John Doe: 34-32-34-064-982, Rebecca Smith: 10-78-20-469-598'\n",
    "p = re.compile(r'(?:\\d{2}-){3}(\\d{3}-\\d{3})') # 첫 group은 non-capturing이라 안쓴다. \n",
    "\n",
    "re.findall(p, s)"
   ]
  },
  {
   "cell_type": "code",
   "execution_count": 39,
   "metadata": {},
   "outputs": [
    {
     "data": {
      "text/plain": [
       "['23', '24', '22']"
      ]
     },
     "execution_count": 39,
     "metadata": {},
     "output_type": "execute_result"
    }
   ],
   "source": [
    "s = \"Today is 23rd May 2019, Tomrrow is 24th May 19, Yesterday was 22nd May 2019\"\n",
    "p = re.compile(r'(\\d+)(?:st|nd|rd|th)')\n",
    "\n",
    "re.findall(p, s)"
   ]
  },
  {
   "cell_type": "markdown",
   "metadata": {},
   "source": [
    "backreference\n",
    "\n",
    "numbered groups\n",
    "- `re.search`로 찾고, `.group`로 몇 번째 그룹 값 가져올지 선택 가능. "
   ]
  },
  {
   "cell_type": "code",
   "execution_count": 40,
   "metadata": {},
   "outputs": [
    {
     "data": {
      "text/plain": [
       "<re.Match object; span=(27, 37), match='12-03-2008'>"
      ]
     },
     "execution_count": 40,
     "metadata": {},
     "output_type": "execute_result"
    }
   ],
   "source": [
    "s = 'Python 3.0 was released on 12-03-2008'\n",
    "p = re.compile(r'(\\d{1,2})-(\\d{2})-(\\d{4})')\n",
    "\n",
    "info = re.search(p, s)\n",
    "info"
   ]
  },
  {
   "cell_type": "code",
   "execution_count": 41,
   "metadata": {},
   "outputs": [
    {
     "data": {
      "text/plain": [
       "('12', '03', '2008')"
      ]
     },
     "execution_count": 41,
     "metadata": {},
     "output_type": "execute_result"
    }
   ],
   "source": [
    "info.groups()"
   ]
  },
  {
   "cell_type": "code",
   "execution_count": 42,
   "metadata": {},
   "outputs": [
    {
     "data": {
      "text/plain": [
       "'12-03-2008'"
      ]
     },
     "execution_count": 42,
     "metadata": {},
     "output_type": "execute_result"
    }
   ],
   "source": [
    "info.group(0)"
   ]
  },
  {
   "cell_type": "code",
   "execution_count": 43,
   "metadata": {},
   "outputs": [
    {
     "data": {
      "text/plain": [
       "'12'"
      ]
     },
     "execution_count": 43,
     "metadata": {},
     "output_type": "execute_result"
    }
   ],
   "source": [
    "info.group(1)"
   ]
  },
  {
   "cell_type": "code",
   "execution_count": 44,
   "metadata": {},
   "outputs": [
    {
     "data": {
      "text/plain": [
       "'03'"
      ]
     },
     "execution_count": 44,
     "metadata": {},
     "output_type": "execute_result"
    }
   ],
   "source": [
    "info.group(2)"
   ]
  },
  {
   "cell_type": "code",
   "execution_count": 45,
   "metadata": {},
   "outputs": [
    {
     "data": {
      "text/plain": [
       "'2008'"
      ]
     },
     "execution_count": 45,
     "metadata": {},
     "output_type": "execute_result"
    }
   ],
   "source": [
    "info.group(3)"
   ]
  },
  {
   "cell_type": "markdown",
   "metadata": {},
   "source": [
    "named groups\n",
    "- 각 그룹에 name을 부여\n",
    "- `(?P<name>regex)` 형식"
   ]
  },
  {
   "cell_type": "code",
   "execution_count": 46,
   "metadata": {},
   "outputs": [
    {
     "data": {
      "text/plain": [
       "<re.Match object; span=(0, 13), match='Austin, 78701'>"
      ]
     },
     "execution_count": 46,
     "metadata": {},
     "output_type": "execute_result"
    }
   ],
   "source": [
    "s = 'Austin, 78701 Seoul, 07984'\n",
    "p = re.compile(r'(?P<city>\\w+),\\s(\\d+)') # 하나만 name 설정할 수도 있다. \n",
    "\n",
    "cities = re.search(p, s)\n",
    "cities"
   ]
  },
  {
   "cell_type": "code",
   "execution_count": 47,
   "metadata": {},
   "outputs": [
    {
     "data": {
      "text/plain": [
       "('Austin', '78701')"
      ]
     },
     "execution_count": 47,
     "metadata": {},
     "output_type": "execute_result"
    }
   ],
   "source": [
    "cities.groups()"
   ]
  },
  {
   "cell_type": "code",
   "execution_count": 48,
   "metadata": {},
   "outputs": [
    {
     "data": {
      "text/plain": [
       "'Austin'"
      ]
     },
     "execution_count": 48,
     "metadata": {},
     "output_type": "execute_result"
    }
   ],
   "source": [
    "cities.group('city')"
   ]
  },
  {
   "cell_type": "code",
   "execution_count": 49,
   "metadata": {},
   "outputs": [
    {
     "data": {
      "text/plain": [
       "[('Austin', '78701'), ('Seoul', '07984')]"
      ]
     },
     "execution_count": 49,
     "metadata": {},
     "output_type": "execute_result"
    }
   ],
   "source": [
    "cities = re.findall(p, s)\n",
    "cities"
   ]
  },
  {
   "cell_type": "markdown",
   "metadata": {},
   "source": [
    "backreference\n",
    "\n",
    "그닥 쓸모는 없는듯... "
   ]
  },
  {
   "cell_type": "code",
   "execution_count": 50,
   "metadata": {},
   "outputs": [
    {
     "data": {
      "text/plain": [
       "['happy']"
      ]
     },
     "execution_count": 50,
     "metadata": {},
     "output_type": "execute_result"
    }
   ],
   "source": [
    "s = 'I wish you a happy happy birthday!'\n",
    "p = re.compile(r'(\\w+)\\s\\1')\n",
    "\n",
    "re.findall(p, s)"
   ]
  },
  {
   "cell_type": "markdown",
   "metadata": {},
   "source": [
    "look around\n",
    "- allow us to confirm that subpattern is ahead or behind main pattern\n",
    "\n",
    "look-ahead\n",
    "- non-capturing group\n",
    "- checks that the first part of the expression is followed or not by the lookahead expression.\n",
    "- return only the first part of the expression\n",
    "    - positive: `(?=regex)`\n",
    "    - negative: `(?!regex)`\n",
    "    \n",
    "look-behind\n",
    "- look-ahead와 거의 같음. \n",
    "    - positive: `(?<=regex)`\n",
    "    - negative: `(?<!regex)`\n",
    "- 그냥 위치만 뒤에 놓던걸 앞에 놓으면 됨. (왼쪽)"
   ]
  },
  {
   "cell_type": "code",
   "execution_count": 51,
   "metadata": {},
   "outputs": [
    {
     "data": {
      "text/plain": [
       "['tweets.txt', 'mypass.txt']"
      ]
     },
     "execution_count": 51,
     "metadata": {},
     "output_type": "execute_result"
    }
   ],
   "source": [
    "s = \"tweets.txt transferred, mypass.txt transferred, keyword.txt error\"\n",
    "p = re.compile(r'\\w+.txt(?=\\stransferred)')\n",
    "\n",
    "re.findall(p, s)"
   ]
  },
  {
   "cell_type": "code",
   "execution_count": 52,
   "metadata": {},
   "outputs": [
    {
     "data": {
      "text/plain": [
       "['keyword.txt']"
      ]
     },
     "execution_count": 52,
     "metadata": {},
     "output_type": "execute_result"
    }
   ],
   "source": [
    "s = \"tweets.txt transferred, mypass.txt transferred, keyword.txt error\"\n",
    "p = re.compile(r'\\w+.txt(?!\\stransferred)') # negation\n",
    "\n",
    "re.findall(p, s)"
   ]
  },
  {
   "cell_type": "code",
   "execution_count": 53,
   "metadata": {},
   "outputs": [
    {
     "data": {
      "text/plain": [
       "[]"
      ]
     },
     "execution_count": 53,
     "metadata": {},
     "output_type": "execute_result"
    }
   ],
   "source": [
    "s = \"tweets.txt transferred, mypass.txt transferred, keyword.txt error\"\n",
    "p = re.compile(r'(?=\\w+.txt)\\stransferred') # look-ahead를 앞에 붙이면 안됨. \n",
    "\n",
    "re.findall(p, s)"
   ]
  },
  {
   "cell_type": "code",
   "execution_count": 54,
   "metadata": {},
   "outputs": [
    {
     "data": {
      "text/plain": [
       "[' transferred', ' transferred']"
      ]
     },
     "execution_count": 54,
     "metadata": {},
     "output_type": "execute_result"
    }
   ],
   "source": [
    "s = \"tweets.txt transferred, mypass.txt transferred, keyword.txt error\"\n",
    "p = re.compile(r'(?<=\\w{6}.txt)\\stransferred') # look-behind를 써줘야 함. \n",
    "\n",
    "re.findall(p, s)"
   ]
  },
  {
   "cell_type": "markdown",
   "metadata": {},
   "source": [
    "이 때, look-behind는 fixed-width pattern을 써줘야 함. \n",
    "\n",
    "`(?<=\\w{이부분}.txt)\\stransferred` \n",
    "\n",
    "저 부분에 `\\w+` 또는 `\\w{1, 6}` 이런건 못옴. "
   ]
  },
  {
   "cell_type": "code",
   "execution_count": null,
   "metadata": {},
   "outputs": [],
   "source": []
  }
 ],
 "metadata": {
  "kernelspec": {
   "display_name": "Python 3",
   "language": "python",
   "name": "python3"
  },
  "language_info": {
   "codemirror_mode": {
    "name": "ipython",
    "version": 3
   },
   "file_extension": ".py",
   "mimetype": "text/x-python",
   "name": "python",
   "nbconvert_exporter": "python",
   "pygments_lexer": "ipython3",
   "version": "3.8.5"
  }
 },
 "nbformat": 4,
 "nbformat_minor": 4
}
