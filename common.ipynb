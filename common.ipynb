{
 "cells": [
  {
   "cell_type": "markdown",
   "metadata": {},
   "source": [
    "# common templates"
   ]
  },
  {
   "cell_type": "markdown",
   "metadata": {},
   "source": [
    "## Jupyter"
   ]
  },
  {
   "cell_type": "code",
   "execution_count": null,
   "metadata": {},
   "outputs": [],
   "source": [
    "# %matplotlib inline"
   ]
  },
  {
   "cell_type": "code",
   "execution_count": 1,
   "metadata": {},
   "outputs": [
    {
     "name": "stdout",
     "output_type": "stream",
     "text": [
      "\n",
      "     active environment : sandbox39\n",
      "    active env location : C:\\Users\\chlje\\anaconda3\\envs\\sandbox39\n",
      "            shell level : 1\n",
      "       user config file : C:\\Users\\chlje\\.condarc\n",
      " populated config files : C:\\Users\\chlje\\.condarc\n",
      "          conda version : 23.7.2\n",
      "    conda-build version : 3.26.0\n",
      "         python version : 3.8.17.final.0\n",
      "       virtual packages : __archspec=1=x86_64\n",
      "                          __cuda=12.2=0\n",
      "                          __win=0=0\n",
      "       base environment : C:\\Users\\chlje\\anaconda3  (writable)\n",
      "      conda av data dir : C:\\Users\\chlje\\anaconda3\\etc\\conda\n",
      "  conda av metadata url : None\n",
      "           channel URLs : https://repo.anaconda.com/pkgs/main/win-64\n",
      "                          https://repo.anaconda.com/pkgs/main/noarch\n",
      "                          https://repo.anaconda.com/pkgs/r/win-64\n",
      "                          https://repo.anaconda.com/pkgs/r/noarch\n",
      "                          https://repo.anaconda.com/pkgs/msys2/win-64\n",
      "                          https://repo.anaconda.com/pkgs/msys2/noarch\n",
      "          package cache : C:\\Users\\chlje\\anaconda3\\pkgs\n",
      "                          C:\\Users\\chlje\\.conda\\pkgs\n",
      "                          C:\\Users\\chlje\\AppData\\Local\\conda\\conda\\pkgs\n",
      "       envs directories : C:\\Users\\chlje\\anaconda3\\envs\n",
      "                          C:\\Users\\chlje\\.conda\\envs\n",
      "                          C:\\Users\\chlje\\AppData\\Local\\conda\\conda\\envs\n",
      "               platform : win-64\n",
      "             user-agent : conda/23.7.2 requests/2.31.0 CPython/3.8.17 Windows/10 Windows/10.0.19045\n",
      "          administrator : False\n",
      "             netrc file : C:\\Users\\chlje/.netrc\n",
      "           offline mode : False\n",
      "\n",
      "\n",
      "\n",
      "Note: you may need to restart the kernel to use updated packages.\n"
     ]
    }
   ],
   "source": [
    "%conda info"
   ]
  },
  {
   "cell_type": "code",
   "execution_count": null,
   "metadata": {},
   "outputs": [],
   "source": [
    "# Legacy Jupyter Notebook width control\n",
    "\n",
    "from IPython.core.display import display, HTML\n",
    "display(HTML(\"<style>.container { width:95% !important; }</style>\"))"
   ]
  },
  {
   "cell_type": "code",
   "execution_count": null,
   "metadata": {},
   "outputs": [],
   "source": [
    "# Import custom libraries \n",
    "\n",
    "# Auto reload libraries\n",
    "%load_ext autoreload\n",
    "%autoreload 2\n",
    "\n",
    "import mylib"
   ]
  },
  {
   "cell_type": "markdown",
   "metadata": {},
   "source": [
    "## Basic Import & Settings\n",
    "\n",
    "mostly included in base anaconda"
   ]
  },
  {
   "cell_type": "markdown",
   "metadata": {},
   "source": [
    "### routine libraries"
   ]
  },
  {
   "cell_type": "code",
   "execution_count": 2,
   "metadata": {},
   "outputs": [],
   "source": [
    "import numpy as np\n",
    "import pandas as pd\n",
    "\n",
    "import matplotlib as mpl\n",
    "import matplotlib.pyplot as plt\n",
    "import seaborn as sns"
   ]
  },
  {
   "cell_type": "code",
   "execution_count": null,
   "metadata": {},
   "outputs": [],
   "source": [
    "# Speed up numpy & pandas\n",
    "\n",
    "import numba\n",
    "import dask.dataframe as dd"
   ]
  },
  {
   "cell_type": "code",
   "execution_count": null,
   "metadata": {},
   "outputs": [],
   "source": [
    "from tqdm import tqdm, trange\n",
    "# from tqdm.notebook import tqdm\n",
    "\n",
    "from time import time\n",
    "from datetime import datetime"
   ]
  },
  {
   "cell_type": "code",
   "execution_count": null,
   "metadata": {},
   "outputs": [],
   "source": [
    "import re\n"
   ]
  },
  {
   "cell_type": "code",
   "execution_count": null,
   "metadata": {},
   "outputs": [],
   "source": [
    "import scipy\n",
    "\n",
    "from sklearn.preprocessing import LabelEncoder, OneHotEncoder\n",
    "from sklearn.preprocessing import StandardScaler, MinMaxScaler, RobustScaler, MaxAbsScaler\n"
   ]
  },
  {
   "cell_type": "code",
   "execution_count": null,
   "metadata": {},
   "outputs": [],
   "source": [
    "import sys, os\n",
    "import json, pickle\n",
    "from pathlib import Path"
   ]
  },
  {
   "cell_type": "markdown",
   "metadata": {},
   "source": [
    "### pandas"
   ]
  },
  {
   "cell_type": "code",
   "execution_count": null,
   "metadata": {},
   "outputs": [],
   "source": [
    "# pandas number value format\n",
    "\n",
    "# pd.set_option('display.float_format', lambda x: f'{x:,.2f}')\n",
    "pd.set_option('display.float_format', lambda x: f'{x:,g}')"
   ]
  },
  {
   "cell_type": "code",
   "execution_count": null,
   "metadata": {},
   "outputs": [],
   "source": [
    "pd.options.display.max_columns = 300\n",
    "pd.options.display.max_rows = 300\n",
    " \n",
    "pd.set_option('display.max_seq_items', None)\n",
    "pd.set_option('display.max_colwidth', -1)\n",
    "pd.set_option('display.max_rows', None)"
   ]
  },
  {
   "cell_type": "markdown",
   "metadata": {},
   "source": [
    "### path"
   ]
  },
  {
   "cell_type": "code",
   "execution_count": null,
   "metadata": {},
   "outputs": [],
   "source": [
    "MY_PATH = Path('/home/jaepil').resolve() # absolute path\n",
    "CWD_PATH = Path('.').resolve() # relative path\n",
    "\n",
    "# Add path to sys.path\n",
    "sys.path.append(MY_PATH.as_posix())\n",
    "sys.path.append(CWD_PATH.as_posix())\n",
    "\n",
    "DATA_PATH = CWD_PATH / 'data'\n",
    "DUMP_PATH = CWD_PATH / 'dump_data'\n",
    "SQL_PATH = CWD_PATH / 'query'"
   ]
  },
  {
   "cell_type": "markdown",
   "metadata": {},
   "source": [
    "### Custom Libraries"
   ]
  },
  {
   "cell_type": "code",
   "execution_count": null,
   "metadata": {},
   "outputs": [],
   "source": [
    "# custom libs\n",
    "\n",
    "import eda_utils as eutils"
   ]
  },
  {
   "cell_type": "markdown",
   "metadata": {},
   "source": [
    "## Special Imports \n",
    "\n",
    "Special environment or installation required"
   ]
  },
  {
   "cell_type": "code",
   "execution_count": null,
   "metadata": {},
   "outputs": [],
   "source": [
    "# Auto EDA library\n",
    "\n",
    "import pandas_profiling\n",
    "from pandas_profiling import ProfileReport"
   ]
  },
  {
   "cell_type": "markdown",
   "metadata": {},
   "source": [
    "### Google Colab"
   ]
  },
  {
   "cell_type": "code",
   "execution_count": null,
   "metadata": {},
   "outputs": [],
   "source": [
    "from google.colab import drive\n",
    "drive.mount('/content/drive')"
   ]
  },
  {
   "cell_type": "code",
   "execution_count": null,
   "metadata": {},
   "outputs": [],
   "source": [
    "from colab_ssh import launch_ssh, launch_ssh_cloudflared, init_git_cloudflared\n",
    "# launch_ssh(NGROK_TOKEN, PASSWORD)\n",
    "launch_ssh_cloudflared(password=PASSWORD)"
   ]
  },
  {
   "cell_type": "markdown",
   "metadata": {},
   "source": [
    "### Python 2"
   ]
  },
  {
   "cell_type": "code",
   "execution_count": null,
   "metadata": {},
   "outputs": [],
   "source": [
    "from __future__ import division"
   ]
  },
  {
   "cell_type": "markdown",
   "metadata": {},
   "source": [
    "## Data IO"
   ]
  },
  {
   "cell_type": "markdown",
   "metadata": {},
   "source": [
    "### json"
   ]
  },
  {
   "cell_type": "code",
   "execution_count": null,
   "metadata": {},
   "outputs": [],
   "source": [
    "def load_json(path_):\n",
    "    with open(path_, 'r') as f:\n",
    "        return json.load(f)"
   ]
  },
  {
   "cell_type": "markdown",
   "metadata": {},
   "source": [
    "### SQL"
   ]
  },
  {
   "cell_type": "code",
   "execution_count": null,
   "metadata": {},
   "outputs": [],
   "source": [
    "def parse_query(query):\n",
    "    query = query.strip()\n",
    "    query = query.rstrip(';')\n",
    "#     query = re.sub('\\n', ' ', query)\n",
    "#     query = re.sub('\\s+', ' ', query)\n",
    "   \n",
    "    return query"
   ]
  },
  {
   "cell_type": "code",
   "execution_count": null,
   "metadata": {},
   "outputs": [],
   "source": [
    "def load_sql(path_):\n",
    "    # path_ = path_.as_posix()\n",
    "    with open(path_, 'r') as f:\n",
    "        return parse_query(f.read())"
   ]
  },
  {
   "cell_type": "code",
   "execution_count": null,
   "metadata": {},
   "outputs": [],
   "source": [
    "# Load many queries and assign to variables at once\n",
    "\n",
    "query1 = rawdata_path / 'SMDA3300TM'\n",
    "query2 = rawdata_path / 'SMDA3301TF'\n",
    "query3 = rawdata_path / 'SMDA3303TF'\n",
    " \n",
    "query_paths = [query1, query2, query3,]\n",
    "\n",
    "for q in queries :\n",
    "       globals()[\"df_{}\".format(q[-6:-2])] = ## read query"
   ]
  },
  {
   "cell_type": "code",
   "execution_count": null,
   "metadata": {},
   "outputs": [],
   "source": [
    "# Filter out duplicate columns after join operation\n",
    "\n",
    "df101 = df101.loc[:, ~df101.columns.duplicated()].copy()"
   ]
  },
  {
   "cell_type": "markdown",
   "metadata": {},
   "source": [
    "### spark"
   ]
  },
  {
   "cell_type": "code",
   "execution_count": null,
   "metadata": {},
   "outputs": [],
   "source": [
    "# dump & load .parquet in case the data is too big to directly convert from spark to pandas\n",
    "\n",
    "parquet_path = dump_path / 'sp4101.parquet'\n",
    "parquet_path = parquet_path.as_posix()\n",
    " \n",
    "sp4101.write.mode('overwrite').parquet(parquet_path)\n",
    " \n",
    "df4101 = pd.read_parquet(parquet_path)"
   ]
  },
  {
   "cell_type": "markdown",
   "metadata": {},
   "source": [
    "## Data Visualization"
   ]
  },
  {
   "cell_type": "code",
   "execution_count": null,
   "metadata": {},
   "outputs": [],
   "source": [
    "# pd.options.plotting.backend = 'plotly'"
   ]
  },
  {
   "cell_type": "code",
   "execution_count": null,
   "metadata": {},
   "outputs": [],
   "source": [
    "# Korean font setting\n",
    "\n",
    "font_path = './fonts/NanumBarunGothic.ttf'\n",
    "font = mpl.font_manager.FontProperties(fname=font_path, size=9)\n",
    "\n",
    "plt.rc('font', family='NanumBarunGothic')\n",
    "\n",
    "# or\n",
    "\n",
    "plt.rcParams['font.family']='NanumGothic'\n",
    "plt.rcParams['axes.unicode_minus'] = False"
   ]
  },
  {
   "cell_type": "code",
   "execution_count": 4,
   "metadata": {},
   "outputs": [],
   "source": [
    "plt.rcParams['figure.figsize'] = (14, 4)\n",
    "plt.rcParams['lines.linewidth'] = 2\n",
    "plt.rcParams['lines.color'] = 'r'\n",
    "plt.rcParams['axes.grid'] = True"
   ]
  },
  {
   "cell_type": "code",
   "execution_count": null,
   "metadata": {},
   "outputs": [],
   "source": [
    "# y axis format to %\n",
    "\n",
    "ax.yaxis.set_major_formatter(mtick.PercentFormatter())"
   ]
  },
  {
   "cell_type": "code",
   "execution_count": 5,
   "metadata": {},
   "outputs": [
    {
     "data": {
      "image/png": "[encoded data removed]",
      "text/plain": [
       "<Figure size 1400x400 with 1 Axes>"
      ]
     },
     "metadata": {},
     "output_type": "display_data"
    }
   ],
   "source": [
    "with plt.style.context('dark_background'): # temporary style change\n",
    "    plt.plot(np.sin(np.linspace(0, 2 * np.pi)), 'r-o')\n",
    "plt.show()"
   ]
  },
  {
   "cell_type": "code",
   "execution_count": null,
   "metadata": {},
   "outputs": [],
   "source": []
  }
 ],
 "metadata": {
  "kernelspec": {
   "display_name": "sandbox39",
   "language": "python",
   "name": "python3"
  },
  "language_info": {
   "codemirror_mode": {
    "name": "ipython",
    "version": 3
   },
   "file_extension": ".py",
   "mimetype": "text/x-python",
   "name": "python",
   "nbconvert_exporter": "python",
   "pygments_lexer": "ipython3",
   "version": "3.9.17"
  },
  "orig_nbformat": 4
 },
 "nbformat": 4,
 "nbformat_minor": 2
}
